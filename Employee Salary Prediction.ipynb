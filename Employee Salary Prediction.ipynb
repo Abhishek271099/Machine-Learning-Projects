{
 "cells": [
  {
   "cell_type": "markdown",
   "metadata": {},
   "source": [
    "#### Problem Statement\n",
    "\n",
    "Solving this problem will help you to gain a basic understanding of the HR industry and also how analytics and data science are applied in practice in this domain.\n",
    "\n",
    "#### A brief understanding of the HR industry\n",
    "\n",
    "Human resources (HR) is the division of an organization that is responsible for finding, screening, recruiting, and training job applicants, and administering employee-benefit programs.\n",
    "\n",
    "This management is the strategic approach to the efficient management of people in any organization in a way that can help their business gain a competitive advantage. It is designed to improve employee performance in service of an employer's strategic objectives.\n",
    "\n",
    "#### Understanding the Problem Statement\n",
    "\n",
    "In this project,you are supposed to identify how salary is varying with respect to other considerable factors."
   ]
  },
  {
   "cell_type": "markdown",
   "metadata": {},
   "source": [
    "#### Importing all the required Libraries"
   ]
  },
  {
   "cell_type": "code",
   "execution_count": 1,
   "metadata": {},
   "outputs": [],
   "source": [
    "import numpy as np\n",
    "import pandas as pd\n",
    "import matplotlib.pyplot as plt\n",
    "%matplotlib inline\n",
    "import seaborn as sns\n",
    "sns.set(style='darkgrid')\n",
    "import warnings\n",
    "warnings.filterwarnings('ignore')"
   ]
  },
  {
   "cell_type": "markdown",
   "metadata": {},
   "source": [
    "#### Reading the Data."
   ]
  },
  {
   "cell_type": "code",
   "execution_count": 2,
   "metadata": {},
   "outputs": [
    {
     "data": {
      "text/html": [
       "<div>\n",
       "<style scoped>\n",
       "    .dataframe tbody tr th:only-of-type {\n",
       "        vertical-align: middle;\n",
       "    }\n",
       "\n",
       "    .dataframe tbody tr th {\n",
       "        vertical-align: top;\n",
       "    }\n",
       "\n",
       "    .dataframe thead th {\n",
       "        text-align: right;\n",
       "    }\n",
       "</style>\n",
       "<table border=\"1\" class=\"dataframe\">\n",
       "  <thead>\n",
       "    <tr style=\"text-align: right;\">\n",
       "      <th></th>\n",
       "      <th>Gender</th>\n",
       "      <th>Business</th>\n",
       "      <th>Dependancies</th>\n",
       "      <th>Calls</th>\n",
       "      <th>Type</th>\n",
       "      <th>Billing</th>\n",
       "      <th>Rating</th>\n",
       "      <th>Age</th>\n",
       "      <th>Salary</th>\n",
       "      <th>Base_pay</th>\n",
       "      <th>Bonus</th>\n",
       "      <th>Unit_Price</th>\n",
       "      <th>Volume</th>\n",
       "      <th>openingbalance</th>\n",
       "      <th>closingbalance</th>\n",
       "      <th>low</th>\n",
       "      <th>Unit_Sales</th>\n",
       "      <th>Total_Sales</th>\n",
       "      <th>Months</th>\n",
       "      <th>Education</th>\n",
       "    </tr>\n",
       "  </thead>\n",
       "  <tbody>\n",
       "    <tr>\n",
       "      <th>0</th>\n",
       "      <td>Female</td>\n",
       "      <td>0</td>\n",
       "      <td>No</td>\n",
       "      <td>Yes</td>\n",
       "      <td>Month-to-month</td>\n",
       "      <td>No</td>\n",
       "      <td>Yes</td>\n",
       "      <td>18</td>\n",
       "      <td>5089.00</td>\n",
       "      <td>2035.600</td>\n",
       "      <td>254.4500</td>\n",
       "      <td>3.770000</td>\n",
       "      <td>21226600</td>\n",
       "      <td>3.75</td>\n",
       "      <td>3.760000</td>\n",
       "      <td>3.650000</td>\n",
       "      <td>18.25</td>\n",
       "      <td>18.8</td>\n",
       "      <td>0</td>\n",
       "      <td>High School or less</td>\n",
       "    </tr>\n",
       "    <tr>\n",
       "      <th>1</th>\n",
       "      <td>Female</td>\n",
       "      <td>0</td>\n",
       "      <td>No</td>\n",
       "      <td>Yes</td>\n",
       "      <td>Month-to-month</td>\n",
       "      <td>No</td>\n",
       "      <td>Yes</td>\n",
       "      <td>19</td>\n",
       "      <td>5698.12</td>\n",
       "      <td>2279.248</td>\n",
       "      <td>284.9060</td>\n",
       "      <td>3.740000</td>\n",
       "      <td>10462800</td>\n",
       "      <td>3.85</td>\n",
       "      <td>3.680000</td>\n",
       "      <td>3.650000</td>\n",
       "      <td>18.40</td>\n",
       "      <td>18.85</td>\n",
       "      <td>0</td>\n",
       "      <td>High School or less</td>\n",
       "    </tr>\n",
       "    <tr>\n",
       "      <th>2</th>\n",
       "      <td>Male</td>\n",
       "      <td>0</td>\n",
       "      <td>No</td>\n",
       "      <td>Yes</td>\n",
       "      <td>Month-to-month</td>\n",
       "      <td>Yes</td>\n",
       "      <td>No</td>\n",
       "      <td>22</td>\n",
       "      <td>5896.65</td>\n",
       "      <td>2358.660</td>\n",
       "      <td>294.8325</td>\n",
       "      <td>3.890000</td>\n",
       "      <td>18761000</td>\n",
       "      <td>4.23</td>\n",
       "      <td>4.290000</td>\n",
       "      <td>3.720000</td>\n",
       "      <td>18.70</td>\n",
       "      <td>18.9</td>\n",
       "      <td>0</td>\n",
       "      <td>High School or less</td>\n",
       "    </tr>\n",
       "    <tr>\n",
       "      <th>3</th>\n",
       "      <td>Female</td>\n",
       "      <td>1</td>\n",
       "      <td>No</td>\n",
       "      <td>Yes</td>\n",
       "      <td>Month-to-month</td>\n",
       "      <td>Yes</td>\n",
       "      <td>Yes</td>\n",
       "      <td>21</td>\n",
       "      <td>6125.12</td>\n",
       "      <td>2450.048</td>\n",
       "      <td>306.2560</td>\n",
       "      <td>4.350000</td>\n",
       "      <td>66130600</td>\n",
       "      <td>4.26</td>\n",
       "      <td>4.310000</td>\n",
       "      <td>3.830000</td>\n",
       "      <td>18.75</td>\n",
       "      <td>19</td>\n",
       "      <td>0</td>\n",
       "      <td>High School or less</td>\n",
       "    </tr>\n",
       "    <tr>\n",
       "      <th>4</th>\n",
       "      <td>Male</td>\n",
       "      <td>0</td>\n",
       "      <td>No</td>\n",
       "      <td>Yes</td>\n",
       "      <td>Month-to-month</td>\n",
       "      <td>Yes</td>\n",
       "      <td>Yes</td>\n",
       "      <td>23</td>\n",
       "      <td>6245.00</td>\n",
       "      <td>2498.000</td>\n",
       "      <td>312.2500</td>\n",
       "      <td>4.340000</td>\n",
       "      <td>26868200</td>\n",
       "      <td>4.79</td>\n",
       "      <td>4.410000</td>\n",
       "      <td>4.080000</td>\n",
       "      <td>18.80</td>\n",
       "      <td>19.05</td>\n",
       "      <td>1</td>\n",
       "      <td>High School or less</td>\n",
       "    </tr>\n",
       "    <tr>\n",
       "      <th>...</th>\n",
       "      <td>...</td>\n",
       "      <td>...</td>\n",
       "      <td>...</td>\n",
       "      <td>...</td>\n",
       "      <td>...</td>\n",
       "      <td>...</td>\n",
       "      <td>...</td>\n",
       "      <td>...</td>\n",
       "      <td>...</td>\n",
       "      <td>...</td>\n",
       "      <td>...</td>\n",
       "      <td>...</td>\n",
       "      <td>...</td>\n",
       "      <td>...</td>\n",
       "      <td>...</td>\n",
       "      <td>...</td>\n",
       "      <td>...</td>\n",
       "      <td>...</td>\n",
       "      <td>...</td>\n",
       "      <td>...</td>\n",
       "    </tr>\n",
       "    <tr>\n",
       "      <th>4995</th>\n",
       "      <td>Female</td>\n",
       "      <td>0</td>\n",
       "      <td>No</td>\n",
       "      <td>Yes</td>\n",
       "      <td>Month-to-month</td>\n",
       "      <td>No</td>\n",
       "      <td>No</td>\n",
       "      <td>72</td>\n",
       "      <td>180696.80</td>\n",
       "      <td>72278.720</td>\n",
       "      <td>9034.8400</td>\n",
       "      <td>629.511067</td>\n",
       "      <td>3927000</td>\n",
       "      <td>NaN</td>\n",
       "      <td>293.838840</td>\n",
       "      <td>310.955001</td>\n",
       "      <td>117.80</td>\n",
       "      <td></td>\n",
       "      <td>72</td>\n",
       "      <td>PG</td>\n",
       "    </tr>\n",
       "    <tr>\n",
       "      <th>4996</th>\n",
       "      <td>Male</td>\n",
       "      <td>0</td>\n",
       "      <td>No</td>\n",
       "      <td>Yes</td>\n",
       "      <td>Month-to-month</td>\n",
       "      <td>Yes</td>\n",
       "      <td>No</td>\n",
       "      <td>73</td>\n",
       "      <td>185685.90</td>\n",
       "      <td>74274.360</td>\n",
       "      <td>9284.2950</td>\n",
       "      <td>627.841071</td>\n",
       "      <td>6031900</td>\n",
       "      <td>NaN</td>\n",
       "      <td>301.311314</td>\n",
       "      <td>309.610028</td>\n",
       "      <td>118.60</td>\n",
       "      <td></td>\n",
       "      <td>72</td>\n",
       "      <td>PG</td>\n",
       "    </tr>\n",
       "    <tr>\n",
       "      <th>4997</th>\n",
       "      <td>Male</td>\n",
       "      <td>0</td>\n",
       "      <td>No</td>\n",
       "      <td>Yes</td>\n",
       "      <td>Month-to-month</td>\n",
       "      <td>Yes</td>\n",
       "      <td>No</td>\n",
       "      <td>74</td>\n",
       "      <td>192636.80</td>\n",
       "      <td>77054.720</td>\n",
       "      <td>9631.8400</td>\n",
       "      <td>625.860033</td>\n",
       "      <td>7949400</td>\n",
       "      <td>NaN</td>\n",
       "      <td>306.040009</td>\n",
       "      <td>303.483494</td>\n",
       "      <td>118.60</td>\n",
       "      <td></td>\n",
       "      <td>72</td>\n",
       "      <td>PG</td>\n",
       "    </tr>\n",
       "    <tr>\n",
       "      <th>4998</th>\n",
       "      <td>Male</td>\n",
       "      <td>1</td>\n",
       "      <td>No</td>\n",
       "      <td>Yes</td>\n",
       "      <td>Month-to-month</td>\n",
       "      <td>Yes</td>\n",
       "      <td>Yes</td>\n",
       "      <td>74</td>\n",
       "      <td>195970.70</td>\n",
       "      <td>78388.280</td>\n",
       "      <td>9798.5350</td>\n",
       "      <td>629.510005</td>\n",
       "      <td>3908400</td>\n",
       "      <td>NaN</td>\n",
       "      <td>308.579987</td>\n",
       "      <td>312.432438</td>\n",
       "      <td>118.65</td>\n",
       "      <td></td>\n",
       "      <td>72</td>\n",
       "      <td>PG</td>\n",
       "    </tr>\n",
       "    <tr>\n",
       "      <th>4999</th>\n",
       "      <td>Male</td>\n",
       "      <td>0</td>\n",
       "      <td>Yes</td>\n",
       "      <td>Yes</td>\n",
       "      <td>Two year</td>\n",
       "      <td>Yes</td>\n",
       "      <td>No</td>\n",
       "      <td>88</td>\n",
       "      <td>199970.74</td>\n",
       "      <td>79988.296</td>\n",
       "      <td>9998.5370</td>\n",
       "      <td>627.839984</td>\n",
       "      <td>6003300</td>\n",
       "      <td>NaN</td>\n",
       "      <td>312.307316</td>\n",
       "      <td>311.081089</td>\n",
       "      <td>118.75</td>\n",
       "      <td></td>\n",
       "      <td>72</td>\n",
       "      <td>PG</td>\n",
       "    </tr>\n",
       "  </tbody>\n",
       "</table>\n",
       "<p>5000 rows × 20 columns</p>\n",
       "</div>"
      ],
      "text/plain": [
       "      Gender  Business Dependancies Calls            Type Billing Rating  Age  \\\n",
       "0     Female         0           No   Yes  Month-to-month      No    Yes   18   \n",
       "1     Female         0           No   Yes  Month-to-month      No    Yes   19   \n",
       "2       Male         0           No   Yes  Month-to-month     Yes     No   22   \n",
       "3     Female         1           No   Yes  Month-to-month     Yes    Yes   21   \n",
       "4       Male         0           No   Yes  Month-to-month     Yes    Yes   23   \n",
       "...      ...       ...          ...   ...             ...     ...    ...  ...   \n",
       "4995  Female         0           No   Yes  Month-to-month      No     No   72   \n",
       "4996    Male         0           No   Yes  Month-to-month     Yes     No   73   \n",
       "4997    Male         0           No   Yes  Month-to-month     Yes     No   74   \n",
       "4998    Male         1           No   Yes  Month-to-month     Yes    Yes   74   \n",
       "4999    Male         0          Yes   Yes        Two year     Yes     No   88   \n",
       "\n",
       "         Salary   Base_pay      Bonus  Unit_Price    Volume  openingbalance  \\\n",
       "0       5089.00   2035.600   254.4500    3.770000  21226600            3.75   \n",
       "1       5698.12   2279.248   284.9060    3.740000  10462800            3.85   \n",
       "2       5896.65   2358.660   294.8325    3.890000  18761000            4.23   \n",
       "3       6125.12   2450.048   306.2560    4.350000  66130600            4.26   \n",
       "4       6245.00   2498.000   312.2500    4.340000  26868200            4.79   \n",
       "...         ...        ...        ...         ...       ...             ...   \n",
       "4995  180696.80  72278.720  9034.8400  629.511067   3927000             NaN   \n",
       "4996  185685.90  74274.360  9284.2950  627.841071   6031900             NaN   \n",
       "4997  192636.80  77054.720  9631.8400  625.860033   7949400             NaN   \n",
       "4998  195970.70  78388.280  9798.5350  629.510005   3908400             NaN   \n",
       "4999  199970.74  79988.296  9998.5370  627.839984   6003300             NaN   \n",
       "\n",
       "      closingbalance         low  Unit_Sales Total_Sales  Months  \\\n",
       "0           3.760000    3.650000       18.25        18.8       0   \n",
       "1           3.680000    3.650000       18.40       18.85       0   \n",
       "2           4.290000    3.720000       18.70        18.9       0   \n",
       "3           4.310000    3.830000       18.75          19       0   \n",
       "4           4.410000    4.080000       18.80       19.05       1   \n",
       "...              ...         ...         ...         ...     ...   \n",
       "4995      293.838840  310.955001      117.80                  72   \n",
       "4996      301.311314  309.610028      118.60                  72   \n",
       "4997      306.040009  303.483494      118.60                  72   \n",
       "4998      308.579987  312.432438      118.65                  72   \n",
       "4999      312.307316  311.081089      118.75                  72   \n",
       "\n",
       "                Education  \n",
       "0     High School or less  \n",
       "1     High School or less  \n",
       "2     High School or less  \n",
       "3     High School or less  \n",
       "4     High School or less  \n",
       "...                   ...  \n",
       "4995                   PG  \n",
       "4996                   PG  \n",
       "4997                   PG  \n",
       "4998                   PG  \n",
       "4999                   PG  \n",
       "\n",
       "[5000 rows x 20 columns]"
      ]
     },
     "execution_count": 2,
     "metadata": {},
     "output_type": "execute_result"
    }
   ],
   "source": [
    "df=pd.read_csv('G:/OS work/Files/New_data_set.csv')\n",
    "df"
   ]
  },
  {
   "cell_type": "markdown",
   "metadata": {},
   "source": [
    "#### Removing columns that are of no use for our analysis"
   ]
  },
  {
   "cell_type": "code",
   "execution_count": 3,
   "metadata": {},
   "outputs": [
    {
     "data": {
      "text/html": [
       "<div>\n",
       "<style scoped>\n",
       "    .dataframe tbody tr th:only-of-type {\n",
       "        vertical-align: middle;\n",
       "    }\n",
       "\n",
       "    .dataframe tbody tr th {\n",
       "        vertical-align: top;\n",
       "    }\n",
       "\n",
       "    .dataframe thead th {\n",
       "        text-align: right;\n",
       "    }\n",
       "</style>\n",
       "<table border=\"1\" class=\"dataframe\">\n",
       "  <thead>\n",
       "    <tr style=\"text-align: right;\">\n",
       "      <th></th>\n",
       "      <th>Business</th>\n",
       "      <th>Dependancies</th>\n",
       "      <th>Type</th>\n",
       "      <th>Billing</th>\n",
       "      <th>Age</th>\n",
       "      <th>Salary</th>\n",
       "      <th>Base_pay</th>\n",
       "      <th>Bonus</th>\n",
       "      <th>Unit_Price</th>\n",
       "      <th>Volume</th>\n",
       "      <th>low</th>\n",
       "      <th>Unit_Sales</th>\n",
       "      <th>Total_Sales</th>\n",
       "      <th>Months</th>\n",
       "      <th>Education</th>\n",
       "    </tr>\n",
       "  </thead>\n",
       "  <tbody>\n",
       "    <tr>\n",
       "      <th>0</th>\n",
       "      <td>0</td>\n",
       "      <td>No</td>\n",
       "      <td>Month-to-month</td>\n",
       "      <td>No</td>\n",
       "      <td>18</td>\n",
       "      <td>5089.00</td>\n",
       "      <td>2035.600</td>\n",
       "      <td>254.4500</td>\n",
       "      <td>3.77</td>\n",
       "      <td>21226600</td>\n",
       "      <td>3.65</td>\n",
       "      <td>18.25</td>\n",
       "      <td>18.8</td>\n",
       "      <td>0</td>\n",
       "      <td>High School or less</td>\n",
       "    </tr>\n",
       "    <tr>\n",
       "      <th>1</th>\n",
       "      <td>0</td>\n",
       "      <td>No</td>\n",
       "      <td>Month-to-month</td>\n",
       "      <td>No</td>\n",
       "      <td>19</td>\n",
       "      <td>5698.12</td>\n",
       "      <td>2279.248</td>\n",
       "      <td>284.9060</td>\n",
       "      <td>3.74</td>\n",
       "      <td>10462800</td>\n",
       "      <td>3.65</td>\n",
       "      <td>18.40</td>\n",
       "      <td>18.85</td>\n",
       "      <td>0</td>\n",
       "      <td>High School or less</td>\n",
       "    </tr>\n",
       "    <tr>\n",
       "      <th>2</th>\n",
       "      <td>0</td>\n",
       "      <td>No</td>\n",
       "      <td>Month-to-month</td>\n",
       "      <td>Yes</td>\n",
       "      <td>22</td>\n",
       "      <td>5896.65</td>\n",
       "      <td>2358.660</td>\n",
       "      <td>294.8325</td>\n",
       "      <td>3.89</td>\n",
       "      <td>18761000</td>\n",
       "      <td>3.72</td>\n",
       "      <td>18.70</td>\n",
       "      <td>18.9</td>\n",
       "      <td>0</td>\n",
       "      <td>High School or less</td>\n",
       "    </tr>\n",
       "    <tr>\n",
       "      <th>3</th>\n",
       "      <td>1</td>\n",
       "      <td>No</td>\n",
       "      <td>Month-to-month</td>\n",
       "      <td>Yes</td>\n",
       "      <td>21</td>\n",
       "      <td>6125.12</td>\n",
       "      <td>2450.048</td>\n",
       "      <td>306.2560</td>\n",
       "      <td>4.35</td>\n",
       "      <td>66130600</td>\n",
       "      <td>3.83</td>\n",
       "      <td>18.75</td>\n",
       "      <td>19</td>\n",
       "      <td>0</td>\n",
       "      <td>High School or less</td>\n",
       "    </tr>\n",
       "    <tr>\n",
       "      <th>4</th>\n",
       "      <td>0</td>\n",
       "      <td>No</td>\n",
       "      <td>Month-to-month</td>\n",
       "      <td>Yes</td>\n",
       "      <td>23</td>\n",
       "      <td>6245.00</td>\n",
       "      <td>2498.000</td>\n",
       "      <td>312.2500</td>\n",
       "      <td>4.34</td>\n",
       "      <td>26868200</td>\n",
       "      <td>4.08</td>\n",
       "      <td>18.80</td>\n",
       "      <td>19.05</td>\n",
       "      <td>1</td>\n",
       "      <td>High School or less</td>\n",
       "    </tr>\n",
       "  </tbody>\n",
       "</table>\n",
       "</div>"
      ],
      "text/plain": [
       "   Business Dependancies            Type Billing  Age   Salary  Base_pay  \\\n",
       "0         0           No  Month-to-month      No   18  5089.00  2035.600   \n",
       "1         0           No  Month-to-month      No   19  5698.12  2279.248   \n",
       "2         0           No  Month-to-month     Yes   22  5896.65  2358.660   \n",
       "3         1           No  Month-to-month     Yes   21  6125.12  2450.048   \n",
       "4         0           No  Month-to-month     Yes   23  6245.00  2498.000   \n",
       "\n",
       "      Bonus  Unit_Price    Volume   low  Unit_Sales Total_Sales  Months  \\\n",
       "0  254.4500        3.77  21226600  3.65       18.25        18.8       0   \n",
       "1  284.9060        3.74  10462800  3.65       18.40       18.85       0   \n",
       "2  294.8325        3.89  18761000  3.72       18.70        18.9       0   \n",
       "3  306.2560        4.35  66130600  3.83       18.75          19       0   \n",
       "4  312.2500        4.34  26868200  4.08       18.80       19.05       1   \n",
       "\n",
       "             Education  \n",
       "0  High School or less  \n",
       "1  High School or less  \n",
       "2  High School or less  \n",
       "3  High School or less  \n",
       "4  High School or less  "
      ]
     },
     "execution_count": 3,
     "metadata": {},
     "output_type": "execute_result"
    }
   ],
   "source": [
    "# Here Gender,Calls,opening balance,closing balance are of no use for predicting a salary of an employee\n",
    "df=df.drop(['Gender','Calls','openingbalance','closingbalance','Rating'],axis=1)\n",
    "df.head()\n"
   ]
  },
  {
   "cell_type": "markdown",
   "metadata": {},
   "source": [
    "#### Percentage of Missing Values if there are any"
   ]
  },
  {
   "cell_type": "code",
   "execution_count": 4,
   "metadata": {},
   "outputs": [
    {
     "data": {
      "text/plain": [
       "Business        0.00\n",
       "Dependancies    0.00\n",
       "Type            0.00\n",
       "Billing         0.00\n",
       "Age             0.00\n",
       "Salary          0.00\n",
       "Base_pay        0.46\n",
       "Bonus           0.00\n",
       "Unit_Price      0.00\n",
       "Volume          0.00\n",
       "low             0.00\n",
       "Unit_Sales      0.00\n",
       "Total_Sales     0.16\n",
       "Months          0.00\n",
       "Education       0.00\n",
       "dtype: float64"
      ]
     },
     "execution_count": 4,
     "metadata": {},
     "output_type": "execute_result"
    }
   ],
   "source": [
    "(df.isnull().sum()/df.shape[0])*100\n",
    "\n",
    "# Here we can see that Base_pay and Total_sales are having some missing values\n",
    "# But since their percentage is very less(<1%),removing them won't affect our analysis."
   ]
  },
  {
   "cell_type": "markdown",
   "metadata": {},
   "source": [
    "#### Removing a rows that contains missing values"
   ]
  },
  {
   "cell_type": "code",
   "execution_count": 5,
   "metadata": {},
   "outputs": [],
   "source": [
    "df=df.dropna(axis=0)"
   ]
  },
  {
   "cell_type": "code",
   "execution_count": 6,
   "metadata": {},
   "outputs": [
    {
     "data": {
      "text/plain": [
       "Business        0\n",
       "Dependancies    0\n",
       "Type            0\n",
       "Billing         0\n",
       "Age             0\n",
       "Salary          0\n",
       "Base_pay        0\n",
       "Bonus           0\n",
       "Unit_Price      0\n",
       "Volume          0\n",
       "low             0\n",
       "Unit_Sales      0\n",
       "Total_Sales     0\n",
       "Months          0\n",
       "Education       0\n",
       "dtype: int64"
      ]
     },
     "execution_count": 6,
     "metadata": {},
     "output_type": "execute_result"
    }
   ],
   "source": [
    "# Again checking for null values\n",
    "# As we can see that there are no longer any null values\n",
    "df.isnull().sum()"
   ]
  },
  {
   "cell_type": "markdown",
   "metadata": {},
   "source": [
    "#### Getting the infomation of data to see if type of each column is in their respective types"
   ]
  },
  {
   "cell_type": "code",
   "execution_count": 7,
   "metadata": {},
   "outputs": [
    {
     "name": "stdout",
     "output_type": "stream",
     "text": [
      "<class 'pandas.core.frame.DataFrame'>\n",
      "Int64Index: 4969 entries, 0 to 4999\n",
      "Data columns (total 15 columns):\n",
      " #   Column        Non-Null Count  Dtype  \n",
      "---  ------        --------------  -----  \n",
      " 0   Business      4969 non-null   int64  \n",
      " 1   Dependancies  4969 non-null   object \n",
      " 2   Type          4969 non-null   object \n",
      " 3   Billing       4969 non-null   object \n",
      " 4   Age           4969 non-null   int64  \n",
      " 5   Salary        4969 non-null   float64\n",
      " 6   Base_pay      4969 non-null   float64\n",
      " 7   Bonus         4969 non-null   float64\n",
      " 8   Unit_Price    4969 non-null   float64\n",
      " 9   Volume        4969 non-null   int64  \n",
      " 10  low           4969 non-null   float64\n",
      " 11  Unit_Sales    4969 non-null   float64\n",
      " 12  Total_Sales   4969 non-null   object \n",
      " 13  Months        4969 non-null   int64  \n",
      " 14  Education     4969 non-null   object \n",
      "dtypes: float64(6), int64(4), object(5)\n",
      "memory usage: 621.1+ KB\n"
     ]
    }
   ],
   "source": [
    "df.info()\n",
    "\n",
    "# So all the columns except Total Sales are in their respective types ,Total Sales need to change its type."
   ]
  },
  {
   "cell_type": "code",
   "execution_count": 8,
   "metadata": {},
   "outputs": [
    {
     "name": "stdout",
     "output_type": "stream",
     "text": [
      "<class 'pandas.core.frame.DataFrame'>\n",
      "Int64Index: 4969 entries, 0 to 4999\n",
      "Data columns (total 15 columns):\n",
      " #   Column        Non-Null Count  Dtype  \n",
      "---  ------        --------------  -----  \n",
      " 0   Business      4969 non-null   int64  \n",
      " 1   Dependancies  4969 non-null   object \n",
      " 2   Type          4969 non-null   object \n",
      " 3   Billing       4969 non-null   object \n",
      " 4   Age           4969 non-null   int64  \n",
      " 5   Salary        4969 non-null   float64\n",
      " 6   Base_pay      4969 non-null   float64\n",
      " 7   Bonus         4969 non-null   float64\n",
      " 8   Unit_Price    4969 non-null   float64\n",
      " 9   Volume        4969 non-null   int64  \n",
      " 10  low           4969 non-null   float64\n",
      " 11  Unit_Sales    4969 non-null   float64\n",
      " 12  Total_Sales   4961 non-null   float64\n",
      " 13  Months        4969 non-null   int64  \n",
      " 14  Education     4969 non-null   object \n",
      "dtypes: float64(7), int64(4), object(4)\n",
      "memory usage: 621.1+ KB\n"
     ]
    }
   ],
   "source": [
    "# Changing dtype of Total Sales to numeric\n",
    "df['Total_Sales']=pd.to_numeric(df['Total_Sales'],errors='coerce')\n",
    "df.info()"
   ]
  },
  {
   "cell_type": "markdown",
   "metadata": {},
   "source": [
    "#### Correlation among all the features"
   ]
  },
  {
   "cell_type": "code",
   "execution_count": 9,
   "metadata": {},
   "outputs": [
    {
     "data": {
      "text/html": [
       "<div>\n",
       "<style scoped>\n",
       "    .dataframe tbody tr th:only-of-type {\n",
       "        vertical-align: middle;\n",
       "    }\n",
       "\n",
       "    .dataframe tbody tr th {\n",
       "        vertical-align: top;\n",
       "    }\n",
       "\n",
       "    .dataframe thead th {\n",
       "        text-align: right;\n",
       "    }\n",
       "</style>\n",
       "<table border=\"1\" class=\"dataframe\">\n",
       "  <thead>\n",
       "    <tr style=\"text-align: right;\">\n",
       "      <th></th>\n",
       "      <th>Business</th>\n",
       "      <th>Age</th>\n",
       "      <th>Salary</th>\n",
       "      <th>Base_pay</th>\n",
       "      <th>Bonus</th>\n",
       "      <th>Unit_Price</th>\n",
       "      <th>Volume</th>\n",
       "      <th>low</th>\n",
       "      <th>Unit_Sales</th>\n",
       "      <th>Total_Sales</th>\n",
       "      <th>Months</th>\n",
       "    </tr>\n",
       "  </thead>\n",
       "  <tbody>\n",
       "    <tr>\n",
       "      <th>Business</th>\n",
       "      <td>1.000000</td>\n",
       "      <td>-0.006536</td>\n",
       "      <td>-0.009957</td>\n",
       "      <td>-0.010292</td>\n",
       "      <td>-0.009957</td>\n",
       "      <td>0.002491</td>\n",
       "      <td>0.018015</td>\n",
       "      <td>-0.000328</td>\n",
       "      <td>-0.019784</td>\n",
       "      <td>-0.018937</td>\n",
       "      <td>-0.012542</td>\n",
       "    </tr>\n",
       "    <tr>\n",
       "      <th>Age</th>\n",
       "      <td>-0.006536</td>\n",
       "      <td>1.000000</td>\n",
       "      <td>0.279885</td>\n",
       "      <td>0.280143</td>\n",
       "      <td>0.279885</td>\n",
       "      <td>0.188225</td>\n",
       "      <td>-0.036191</td>\n",
       "      <td>0.249499</td>\n",
       "      <td>0.178914</td>\n",
       "      <td>0.141155</td>\n",
       "      <td>0.123007</td>\n",
       "    </tr>\n",
       "    <tr>\n",
       "      <th>Salary</th>\n",
       "      <td>-0.009957</td>\n",
       "      <td>0.279885</td>\n",
       "      <td>1.000000</td>\n",
       "      <td>0.999300</td>\n",
       "      <td>1.000000</td>\n",
       "      <td>0.596926</td>\n",
       "      <td>-0.209287</td>\n",
       "      <td>0.812699</td>\n",
       "      <td>0.940667</td>\n",
       "      <td>0.892530</td>\n",
       "      <td>0.602385</td>\n",
       "    </tr>\n",
       "    <tr>\n",
       "      <th>Base_pay</th>\n",
       "      <td>-0.010292</td>\n",
       "      <td>0.280143</td>\n",
       "      <td>0.999300</td>\n",
       "      <td>1.000000</td>\n",
       "      <td>0.999300</td>\n",
       "      <td>0.599108</td>\n",
       "      <td>-0.208833</td>\n",
       "      <td>0.815711</td>\n",
       "      <td>0.939539</td>\n",
       "      <td>0.893429</td>\n",
       "      <td>0.603124</td>\n",
       "    </tr>\n",
       "    <tr>\n",
       "      <th>Bonus</th>\n",
       "      <td>-0.009957</td>\n",
       "      <td>0.279885</td>\n",
       "      <td>1.000000</td>\n",
       "      <td>0.999300</td>\n",
       "      <td>1.000000</td>\n",
       "      <td>0.596926</td>\n",
       "      <td>-0.209287</td>\n",
       "      <td>0.812699</td>\n",
       "      <td>0.940667</td>\n",
       "      <td>0.892530</td>\n",
       "      <td>0.602385</td>\n",
       "    </tr>\n",
       "    <tr>\n",
       "      <th>Unit_Price</th>\n",
       "      <td>0.002491</td>\n",
       "      <td>0.188225</td>\n",
       "      <td>0.596926</td>\n",
       "      <td>0.599108</td>\n",
       "      <td>0.596926</td>\n",
       "      <td>1.000000</td>\n",
       "      <td>-0.045590</td>\n",
       "      <td>0.832366</td>\n",
       "      <td>0.520708</td>\n",
       "      <td>0.658016</td>\n",
       "      <td>0.443385</td>\n",
       "    </tr>\n",
       "    <tr>\n",
       "      <th>Volume</th>\n",
       "      <td>0.018015</td>\n",
       "      <td>-0.036191</td>\n",
       "      <td>-0.209287</td>\n",
       "      <td>-0.208833</td>\n",
       "      <td>-0.209287</td>\n",
       "      <td>-0.045590</td>\n",
       "      <td>1.000000</td>\n",
       "      <td>-0.146349</td>\n",
       "      <td>-0.216849</td>\n",
       "      <td>-0.183945</td>\n",
       "      <td>-0.124457</td>\n",
       "    </tr>\n",
       "    <tr>\n",
       "      <th>low</th>\n",
       "      <td>-0.000328</td>\n",
       "      <td>0.249499</td>\n",
       "      <td>0.812699</td>\n",
       "      <td>0.815711</td>\n",
       "      <td>0.812699</td>\n",
       "      <td>0.832366</td>\n",
       "      <td>-0.146349</td>\n",
       "      <td>1.000000</td>\n",
       "      <td>0.748120</td>\n",
       "      <td>0.896432</td>\n",
       "      <td>0.607442</td>\n",
       "    </tr>\n",
       "    <tr>\n",
       "      <th>Unit_Sales</th>\n",
       "      <td>-0.019784</td>\n",
       "      <td>0.178914</td>\n",
       "      <td>0.940667</td>\n",
       "      <td>0.939539</td>\n",
       "      <td>0.940667</td>\n",
       "      <td>0.520708</td>\n",
       "      <td>-0.216849</td>\n",
       "      <td>0.748120</td>\n",
       "      <td>1.000000</td>\n",
       "      <td>0.896115</td>\n",
       "      <td>0.481687</td>\n",
       "    </tr>\n",
       "    <tr>\n",
       "      <th>Total_Sales</th>\n",
       "      <td>-0.018937</td>\n",
       "      <td>0.141155</td>\n",
       "      <td>0.892530</td>\n",
       "      <td>0.893429</td>\n",
       "      <td>0.892530</td>\n",
       "      <td>0.658016</td>\n",
       "      <td>-0.183945</td>\n",
       "      <td>0.896432</td>\n",
       "      <td>0.896115</td>\n",
       "      <td>1.000000</td>\n",
       "      <td>0.702813</td>\n",
       "    </tr>\n",
       "    <tr>\n",
       "      <th>Months</th>\n",
       "      <td>-0.012542</td>\n",
       "      <td>0.123007</td>\n",
       "      <td>0.602385</td>\n",
       "      <td>0.603124</td>\n",
       "      <td>0.602385</td>\n",
       "      <td>0.443385</td>\n",
       "      <td>-0.124457</td>\n",
       "      <td>0.607442</td>\n",
       "      <td>0.481687</td>\n",
       "      <td>0.702813</td>\n",
       "      <td>1.000000</td>\n",
       "    </tr>\n",
       "  </tbody>\n",
       "</table>\n",
       "</div>"
      ],
      "text/plain": [
       "             Business       Age    Salary  Base_pay     Bonus  Unit_Price  \\\n",
       "Business     1.000000 -0.006536 -0.009957 -0.010292 -0.009957    0.002491   \n",
       "Age         -0.006536  1.000000  0.279885  0.280143  0.279885    0.188225   \n",
       "Salary      -0.009957  0.279885  1.000000  0.999300  1.000000    0.596926   \n",
       "Base_pay    -0.010292  0.280143  0.999300  1.000000  0.999300    0.599108   \n",
       "Bonus       -0.009957  0.279885  1.000000  0.999300  1.000000    0.596926   \n",
       "Unit_Price   0.002491  0.188225  0.596926  0.599108  0.596926    1.000000   \n",
       "Volume       0.018015 -0.036191 -0.209287 -0.208833 -0.209287   -0.045590   \n",
       "low         -0.000328  0.249499  0.812699  0.815711  0.812699    0.832366   \n",
       "Unit_Sales  -0.019784  0.178914  0.940667  0.939539  0.940667    0.520708   \n",
       "Total_Sales -0.018937  0.141155  0.892530  0.893429  0.892530    0.658016   \n",
       "Months      -0.012542  0.123007  0.602385  0.603124  0.602385    0.443385   \n",
       "\n",
       "               Volume       low  Unit_Sales  Total_Sales    Months  \n",
       "Business     0.018015 -0.000328   -0.019784    -0.018937 -0.012542  \n",
       "Age         -0.036191  0.249499    0.178914     0.141155  0.123007  \n",
       "Salary      -0.209287  0.812699    0.940667     0.892530  0.602385  \n",
       "Base_pay    -0.208833  0.815711    0.939539     0.893429  0.603124  \n",
       "Bonus       -0.209287  0.812699    0.940667     0.892530  0.602385  \n",
       "Unit_Price  -0.045590  0.832366    0.520708     0.658016  0.443385  \n",
       "Volume       1.000000 -0.146349   -0.216849    -0.183945 -0.124457  \n",
       "low         -0.146349  1.000000    0.748120     0.896432  0.607442  \n",
       "Unit_Sales  -0.216849  0.748120    1.000000     0.896115  0.481687  \n",
       "Total_Sales -0.183945  0.896432    0.896115     1.000000  0.702813  \n",
       "Months      -0.124457  0.607442    0.481687     0.702813  1.000000  "
      ]
     },
     "execution_count": 9,
     "metadata": {},
     "output_type": "execute_result"
    }
   ],
   "source": [
    "df.corr()"
   ]
  },
  {
   "cell_type": "markdown",
   "metadata": {},
   "source": [
    "Correlation between Salary and Business,Volume,Age is very less and therefore they too can be removed.\n",
    "First lets plot a line graph between Age and Salary to further cross-check if 'Age' columns is really important or not."
   ]
  },
  {
   "cell_type": "markdown",
   "metadata": {},
   "source": [
    "### Visualisation for getting more insights from the data\n",
    "In our visualisation we will be using estimator as median since our dataset may contain outliers\n",
    "and mean is sensitive to outliers while median is not"
   ]
  },
  {
   "cell_type": "code",
   "execution_count": 10,
   "metadata": {},
   "outputs": [
    {
     "data": {
      "image/png": "[encoded data removed]",
      "text/plain": [
       "<Figure size 720x360 with 1 Axes>"
      ]
     },
     "metadata": {
      "needs_background": "light"
     },
     "output_type": "display_data"
    }
   ],
   "source": [
    "plt.figure(figsize=(10,5))                                                           # Setting Figure Size\n",
    "sns.lineplot(x='Age',y='Salary',data=df,estimator=np.median,color='purple',ci=False) # Plotting line plot\n",
    "plt.xticks([10,20,30,40,50,60,70,80,90])                                             # Setting X-ticks\n",
    "plt.show()\n",
    "\n",
    "# Between 20 to 30,there are no gradual increase or decrease.This could be due to the fact that people in this age group prepare for\n",
    "# other competitive exams and they usually do part time job\n",
    "# From age 40 there is gradual increase in salary\n",
    "# So from this graph we can conclude Salary does not that much depends on Age also correlation between Salary and Age is 0.27\n",
    "# Therefore Age column can also be removed"
   ]
  },
  {
   "cell_type": "code",
   "execution_count": 11,
   "metadata": {},
   "outputs": [
    {
     "data": {
      "text/html": [
       "<div>\n",
       "<style scoped>\n",
       "    .dataframe tbody tr th:only-of-type {\n",
       "        vertical-align: middle;\n",
       "    }\n",
       "\n",
       "    .dataframe tbody tr th {\n",
       "        vertical-align: top;\n",
       "    }\n",
       "\n",
       "    .dataframe thead th {\n",
       "        text-align: right;\n",
       "    }\n",
       "</style>\n",
       "<table border=\"1\" class=\"dataframe\">\n",
       "  <thead>\n",
       "    <tr style=\"text-align: right;\">\n",
       "      <th></th>\n",
       "      <th>Dependancies</th>\n",
       "      <th>Type</th>\n",
       "      <th>Billing</th>\n",
       "      <th>Salary</th>\n",
       "      <th>Base_pay</th>\n",
       "      <th>Bonus</th>\n",
       "      <th>Unit_Price</th>\n",
       "      <th>low</th>\n",
       "      <th>Unit_Sales</th>\n",
       "      <th>Total_Sales</th>\n",
       "      <th>Months</th>\n",
       "      <th>Education</th>\n",
       "    </tr>\n",
       "  </thead>\n",
       "  <tbody>\n",
       "    <tr>\n",
       "      <th>0</th>\n",
       "      <td>No</td>\n",
       "      <td>Month-to-month</td>\n",
       "      <td>No</td>\n",
       "      <td>5089.00</td>\n",
       "      <td>2035.600</td>\n",
       "      <td>254.4500</td>\n",
       "      <td>3.77</td>\n",
       "      <td>3.65</td>\n",
       "      <td>18.25</td>\n",
       "      <td>18.80</td>\n",
       "      <td>0</td>\n",
       "      <td>High School or less</td>\n",
       "    </tr>\n",
       "    <tr>\n",
       "      <th>1</th>\n",
       "      <td>No</td>\n",
       "      <td>Month-to-month</td>\n",
       "      <td>No</td>\n",
       "      <td>5698.12</td>\n",
       "      <td>2279.248</td>\n",
       "      <td>284.9060</td>\n",
       "      <td>3.74</td>\n",
       "      <td>3.65</td>\n",
       "      <td>18.40</td>\n",
       "      <td>18.85</td>\n",
       "      <td>0</td>\n",
       "      <td>High School or less</td>\n",
       "    </tr>\n",
       "    <tr>\n",
       "      <th>2</th>\n",
       "      <td>No</td>\n",
       "      <td>Month-to-month</td>\n",
       "      <td>Yes</td>\n",
       "      <td>5896.65</td>\n",
       "      <td>2358.660</td>\n",
       "      <td>294.8325</td>\n",
       "      <td>3.89</td>\n",
       "      <td>3.72</td>\n",
       "      <td>18.70</td>\n",
       "      <td>18.90</td>\n",
       "      <td>0</td>\n",
       "      <td>High School or less</td>\n",
       "    </tr>\n",
       "    <tr>\n",
       "      <th>3</th>\n",
       "      <td>No</td>\n",
       "      <td>Month-to-month</td>\n",
       "      <td>Yes</td>\n",
       "      <td>6125.12</td>\n",
       "      <td>2450.048</td>\n",
       "      <td>306.2560</td>\n",
       "      <td>4.35</td>\n",
       "      <td>3.83</td>\n",
       "      <td>18.75</td>\n",
       "      <td>19.00</td>\n",
       "      <td>0</td>\n",
       "      <td>High School or less</td>\n",
       "    </tr>\n",
       "    <tr>\n",
       "      <th>4</th>\n",
       "      <td>No</td>\n",
       "      <td>Month-to-month</td>\n",
       "      <td>Yes</td>\n",
       "      <td>6245.00</td>\n",
       "      <td>2498.000</td>\n",
       "      <td>312.2500</td>\n",
       "      <td>4.34</td>\n",
       "      <td>4.08</td>\n",
       "      <td>18.80</td>\n",
       "      <td>19.05</td>\n",
       "      <td>1</td>\n",
       "      <td>High School or less</td>\n",
       "    </tr>\n",
       "  </tbody>\n",
       "</table>\n",
       "</div>"
      ],
      "text/plain": [
       "  Dependancies            Type Billing   Salary  Base_pay     Bonus  \\\n",
       "0           No  Month-to-month      No  5089.00  2035.600  254.4500   \n",
       "1           No  Month-to-month      No  5698.12  2279.248  284.9060   \n",
       "2           No  Month-to-month     Yes  5896.65  2358.660  294.8325   \n",
       "3           No  Month-to-month     Yes  6125.12  2450.048  306.2560   \n",
       "4           No  Month-to-month     Yes  6245.00  2498.000  312.2500   \n",
       "\n",
       "   Unit_Price   low  Unit_Sales  Total_Sales  Months            Education  \n",
       "0        3.77  3.65       18.25        18.80       0  High School or less  \n",
       "1        3.74  3.65       18.40        18.85       0  High School or less  \n",
       "2        3.89  3.72       18.70        18.90       0  High School or less  \n",
       "3        4.35  3.83       18.75        19.00       0  High School or less  \n",
       "4        4.34  4.08       18.80        19.05       1  High School or less  "
      ]
     },
     "execution_count": 11,
     "metadata": {},
     "output_type": "execute_result"
    }
   ],
   "source": [
    "df=df.drop(['Business','Volume','Age'],axis=1)\n",
    "df.head()"
   ]
  },
  {
   "cell_type": "code",
   "execution_count": 12,
   "metadata": {},
   "outputs": [
    {
     "name": "stdout",
     "output_type": "stream",
     "text": [
      "The history saving thread hit an unexpected error (OperationalError('disk I/O error')).History will not be written to the database.\n",
      "Education\n",
      "Graduation              94886.18\n",
      "High School or less      7924.04\n",
      "Intermediate             7474.94\n",
      "PG                     107266.61\n",
      "Name: Salary, dtype: float64\n"
     ]
    },
    {
     "data": {
      "image/png": "[encoded data removed]",
      "text/plain": [
       "<Figure size 432x288 with 1 Axes>"
      ]
     },
     "metadata": {
      "needs_background": "light"
     },
     "output_type": "display_data"
    }
   ],
   "source": [
    "sns.barplot(x='Education',y='Salary',data=df,hue='Type',estimator=np.median)\n",
    "print(np.round(df.groupby('Education')['Salary'].median(),2))\n",
    "\n",
    "# From the graph we can conclude that higher the education,higher is the salary of an employee\n",
    "# There is no significant difference in salary for type of salary settlement. \n",
    "# Therefore dropping this column also as it is not providing any extra information about salary"
   ]
  },
  {
   "cell_type": "code",
   "execution_count": 13,
   "metadata": {},
   "outputs": [],
   "source": [
    "df=df.drop('Type',axis=1)"
   ]
  },
  {
   "cell_type": "markdown",
   "metadata": {},
   "source": [
    "#### Variation of Salary wrt Unit Sales"
   ]
  },
  {
   "cell_type": "code",
   "execution_count": 14,
   "metadata": {},
   "outputs": [
    {
     "data": {
      "image/png": "[encoded data removed]",
      "text/plain": [
       "<Figure size 720x360 with 1 Axes>"
      ]
     },
     "metadata": {
      "needs_background": "light"
     },
     "output_type": "display_data"
    }
   ],
   "source": [
    "plt.figure(figsize=(10,5))\n",
    "sns.lineplot(x='Unit_Sales',y='Salary',data=df,estimator=np.median,color='red')\n",
    "plt.xticks(range(0,120,10))\n",
    "plt.show()\n",
    "\n",
    "# Here we can see a gradual increase in salary as you make more sales\n",
    "# From the graph we conclude that,higher the sales you make higher would be your salary."
   ]
  },
  {
   "cell_type": "markdown",
   "metadata": {},
   "source": [
    "#### Variation of Salary wrt Total Sales"
   ]
  },
  {
   "cell_type": "code",
   "execution_count": 15,
   "metadata": {},
   "outputs": [
    {
     "data": {
      "image/png": "[encoded data removed]",
      "text/plain": [
       "<Figure size 720x360 with 1 Axes>"
      ]
     },
     "metadata": {
      "needs_background": "light"
     },
     "output_type": "display_data"
    }
   ],
   "source": [
    "plt.figure(figsize=(10,5))\n",
    "sns.lineplot(x='Total_Sales',y='Salary',data=df,estimator=np.median,color='black')\n",
    "plt.show()\n",
    "\n",
    "# same result as that of between Unit sales and Salary\n",
    "# More the sales you make ,more would be your salary"
   ]
  },
  {
   "cell_type": "code",
   "execution_count": 16,
   "metadata": {},
   "outputs": [
    {
     "data": {
      "text/html": [
       "<div>\n",
       "<style scoped>\n",
       "    .dataframe tbody tr th:only-of-type {\n",
       "        vertical-align: middle;\n",
       "    }\n",
       "\n",
       "    .dataframe tbody tr th {\n",
       "        vertical-align: top;\n",
       "    }\n",
       "\n",
       "    .dataframe thead th {\n",
       "        text-align: right;\n",
       "    }\n",
       "</style>\n",
       "<table border=\"1\" class=\"dataframe\">\n",
       "  <thead>\n",
       "    <tr style=\"text-align: right;\">\n",
       "      <th></th>\n",
       "      <th>Unit_Sales</th>\n",
       "      <th>Total_Sales</th>\n",
       "    </tr>\n",
       "  </thead>\n",
       "  <tbody>\n",
       "    <tr>\n",
       "      <th>Unit_Sales</th>\n",
       "      <td>1.000000</td>\n",
       "      <td>0.896115</td>\n",
       "    </tr>\n",
       "    <tr>\n",
       "      <th>Total_Sales</th>\n",
       "      <td>0.896115</td>\n",
       "      <td>1.000000</td>\n",
       "    </tr>\n",
       "  </tbody>\n",
       "</table>\n",
       "</div>"
      ],
      "text/plain": [
       "             Unit_Sales  Total_Sales\n",
       "Unit_Sales     1.000000     0.896115\n",
       "Total_Sales    0.896115     1.000000"
      ]
     },
     "execution_count": 16,
     "metadata": {},
     "output_type": "execute_result"
    }
   ],
   "source": [
    "df[['Unit_Sales','Total_Sales']].corr()"
   ]
  },
  {
   "cell_type": "markdown",
   "metadata": {},
   "source": [
    "Here Total_Sales and Unit_Sales are giving almost same result.\n",
    "And we can also see that they are internally correlated.\n",
    "If we keep both of them in our dataset,we may face issue of Multicollinearity.\n",
    "Therefore one of them should be removed from our dataset.\n",
    "Since Unit Sales is having high correlation with Salary than that of Total Sales,we are going to remove Total_Sales from our Dataset"
   ]
  },
  {
   "cell_type": "code",
   "execution_count": 17,
   "metadata": {},
   "outputs": [],
   "source": [
    "df=df.drop('Total_Sales',axis=1)"
   ]
  },
  {
   "cell_type": "markdown",
   "metadata": {},
   "source": [
    "#### Variation of Salary wrt Month "
   ]
  },
  {
   "cell_type": "code",
   "execution_count": 18,
   "metadata": {},
   "outputs": [
    {
     "data": {
      "image/png": "[encoded data removed]",
      "text/plain": [
       "<Figure size 720x360 with 1 Axes>"
      ]
     },
     "metadata": {
      "needs_background": "light"
     },
     "output_type": "display_data"
    }
   ],
   "source": [
    "plt.figure(figsize=(10,5))\n",
    "sns.lineplot(x='Months',y='Salary',data=df,estimator=np.median,ci=False)\n",
    "plt.xticks(range(0,80,5))\n",
    "plt.show()\n",
    "\n",
    "# Here also we are seeing gradual increase in salary\n"
   ]
  },
  {
   "cell_type": "markdown",
   "metadata": {},
   "source": [
    "### Numerical Features\n",
    "#### Extracting numerical feature to see if there are any outliers"
   ]
  },
  {
   "cell_type": "code",
   "execution_count": 19,
   "metadata": {},
   "outputs": [
    {
     "data": {
      "text/plain": [
       "['Salary', 'Base_pay', 'Bonus', 'Unit_Price', 'low', 'Unit_Sales', 'Months']"
      ]
     },
     "execution_count": 19,
     "metadata": {},
     "output_type": "execute_result"
    }
   ],
   "source": [
    "# In our dataset,there are only to types of columns,Object and Numeric.\n",
    "# so here we are considering the columns which are not having dtype as object are numeric.\n",
    "\n",
    "numerical_features=[feature for feature in df.columns if df[feature].dtypes!='O']\n",
    "numerical_features"
   ]
  },
  {
   "cell_type": "code",
   "execution_count": 20,
   "metadata": {},
   "outputs": [
    {
     "data": {
      "image/png": "[encoded data removed]",
      "text/plain": [
       "<Figure size 432x288 with 1 Axes>"
      ]
     },
     "metadata": {
      "needs_background": "light"
     },
     "output_type": "display_data"
    },
    {
     "data": {
      "image/png": "[encoded data removed]",
      "text/plain": [
       "<Figure size 432x288 with 1 Axes>"
      ]
     },
     "metadata": {
      "needs_background": "light"
     },
     "output_type": "display_data"
    },
    {
     "data": {
      "image/png": "[encoded data removed]",
      "text/plain": [
       "<Figure size 432x288 with 1 Axes>"
      ]
     },
     "metadata": {
      "needs_background": "light"
     },
     "output_type": "display_data"
    },
    {
     "data": {
      "image/png": "[encoded data removed]",
      "text/plain": [
       "<Figure size 432x288 with 1 Axes>"
      ]
     },
     "metadata": {
      "needs_background": "light"
     },
     "output_type": "display_data"
    },
    {
     "data": {
      "image/png": "[encoded data removed]",
      "text/plain": [
       "<Figure size 432x288 with 1 Axes>"
      ]
     },
     "metadata": {
      "needs_background": "light"
     },
     "output_type": "display_data"
    },
    {
     "data": {
      "image/png": "[encoded data removed]",
      "text/plain": [
       "<Figure size 432x288 with 1 Axes>"
      ]
     },
     "metadata": {
      "needs_background": "light"
     },
     "output_type": "display_data"
    },
    {
     "data": {
      "image/png": "[encoded data removed]",
      "text/plain": [
       "<Figure size 432x288 with 1 Axes>"
      ]
     },
     "metadata": {
      "needs_background": "light"
     },
     "output_type": "display_data"
    }
   ],
   "source": [
    "for feature in numerical_features:\n",
    "    data=df.copy()                   # Copying dataset\n",
    "    plt.boxplot(data[feature])       # Plotting boxplot  \n",
    "    plt.title(feature)               # Setting Title\n",
    "    plt.show()\n",
    "    \n",
    "    \n",
    "# Here we can see,there are Outliers in our Dataset."
   ]
  },
  {
   "cell_type": "markdown",
   "metadata": {},
   "source": [
    "#### Percentage of Outliers\n",
    "we are calculating percentage of outliers by Inter-Quantile Range(IQR) Method.\n",
    "\n",
    "first defining 25 percentile and 75 percentile as quantile 1 and 3 resp.\n",
    "Difference between quantile1 and quantile3 is interquantile range(IQR).\n",
    "Lower limit is 1.5 times IQR below the quantile1 and upper limit is 1.5 times IQR above the quantile3.\n",
    "Any data that exist outside this boundry is an outlier."
   ]
  },
  {
   "cell_type": "code",
   "execution_count": 21,
   "metadata": {},
   "outputs": [
    {
     "name": "stdout",
     "output_type": "stream",
     "text": [
      "percentage outliers in Salary is 1.55%\n",
      "percentage outliers in Base_pay is 1.65%\n",
      "percentage outliers in Bonus is 1.55%\n",
      "percentage outliers in Unit_Price is 8.13%\n",
      "percentage outliers in low is 7.95%\n",
      "percentage outliers in Unit_Sales is 0.00%\n",
      "percentage outliers in Months is 0.00%\n"
     ]
    }
   ],
   "source": [
    "for feature in numerical_features:\n",
    "    quantile1,quantile3=np.percentile(df[feature],[25,75])     # Defining the quantile ranges\n",
    "\n",
    "    iqr=quantile3-quantile1                                    # Defining inter quantile range      \n",
    "    lower_bound=quantile1-(1.5*iqr)                            # Defining lower bound of outliers\n",
    "    upper_bound=quantile3+(1.5*iqr)                            # Defining upper bound of outliers\n",
    "    percentage_outliers=(len(df[(df[feature]>upper_bound) | (df[feature]<lower_bound)])/df.shape[0])*100 #Defining % outliers.\n",
    "\n",
    "    print('percentage outliers in {} is {:.2f}%'.format(feature,percentage_outliers))\n",
    "\n",
    "    \n",
    "    \n",
    "# Percentage of outliers in some columns is greater than 5% ,so they need to be removed"
   ]
  },
  {
   "cell_type": "markdown",
   "metadata": {},
   "source": [
    "#### Removing Outliers\n",
    "Percentage of outliers is less than 10% therefore,removing them won't affect our analysis\n",
    "And for regression model,outliers affect them drastically\n"
   ]
  },
  {
   "cell_type": "code",
   "execution_count": 22,
   "metadata": {},
   "outputs": [
    {
     "name": "stdout",
     "output_type": "stream",
     "text": [
      "percentage outliers in Salary is 0.00\n",
      "percentage outliers in Base_pay is 0.00\n",
      "percentage outliers in Bonus is 0.00\n",
      "percentage outliers in Unit_Price is 0.00\n",
      "percentage outliers in low is 0.00\n",
      "percentage outliers in Unit_Sales is 0.00\n",
      "percentage outliers in Months is 0.00\n"
     ]
    }
   ],
   "source": [
    "for feature in numerical_features:\n",
    "    quantile1,quantile3=np.percentile(df[feature],[25,75])     # Defining the quantile ranges\n",
    "\n",
    "    iqr=quantile3-quantile1                                    # Defining inter quantile range      \n",
    "    lower_bound=quantile1-(1.5*iqr)                            # Defining lower bound of outliers\n",
    "    upper_bound=quantile3+(1.5*iqr)                            # Defining upper bound of outliers\n",
    "    df=df[(df[feature]<=upper_bound)&(df[feature]>=lower_bound)]   # Taking only that data which is under the boundry we defined\n",
    "    percentage_outliers=(len(df[(df[feature]>upper_bound) | (df[feature]<lower_bound)])/df.shape[0])*100 #Defining % outliers.\n",
    "\n",
    "\n",
    "    print('percentage outliers in {} is {:.2f}'.format(feature,percentage_outliers))\n"
   ]
  },
  {
   "cell_type": "code",
   "execution_count": 23,
   "metadata": {},
   "outputs": [
    {
     "data": {
      "text/plain": [
       "(4409, 10)"
      ]
     },
     "execution_count": 23,
     "metadata": {},
     "output_type": "execute_result"
    }
   ],
   "source": [
    "df.shape\n",
    "\n",
    "# Here we can see 591 rows were removed from dataset."
   ]
  },
  {
   "cell_type": "markdown",
   "metadata": {},
   "source": [
    "#### Distribution of Numerical Features"
   ]
  },
  {
   "cell_type": "code",
   "execution_count": 24,
   "metadata": {},
   "outputs": [
    {
     "data": {
      "image/png": "[encoded data removed]",
      "text/plain": [
       "<Figure size 432x288 with 1 Axes>"
      ]
     },
     "metadata": {
      "needs_background": "light"
     },
     "output_type": "display_data"
    },
    {
     "data": {
      "image/png": "[encoded data removed]",
      "text/plain": [
       "<Figure size 432x288 with 1 Axes>"
      ]
     },
     "metadata": {
      "needs_background": "light"
     },
     "output_type": "display_data"
    },
    {
     "data": {
      "image/png": "[encoded data removed]",
      "text/plain": [
       "<Figure size 432x288 with 1 Axes>"
      ]
     },
     "metadata": {
      "needs_background": "light"
     },
     "output_type": "display_data"
    },
    {
     "data": {
      "image/png": "[encoded data removed]",
      "text/plain": [
       "<Figure size 432x288 with 1 Axes>"
      ]
     },
     "metadata": {
      "needs_background": "light"
     },
     "output_type": "display_data"
    },
    {
     "data": {
      "image/png": "[encoded data removed]",
      "text/plain": [
       "<Figure size 432x288 with 1 Axes>"
      ]
     },
     "metadata": {
      "needs_background": "light"
     },
     "output_type": "display_data"
    },
    {
     "data": {
      "image/png": "[encoded data removed]",
      "text/plain": [
       "<Figure size 432x288 with 1 Axes>"
      ]
     },
     "metadata": {
      "needs_background": "light"
     },
     "output_type": "display_data"
    },
    {
     "data": {
      "image/png": "[encoded data removed]",
      "text/plain": [
       "<Figure size 432x288 with 1 Axes>"
      ]
     },
     "metadata": {
      "needs_background": "light"
     },
     "output_type": "display_data"
    }
   ],
   "source": [
    "for feature in numerical_features:\n",
    "    data=df.copy()\n",
    "    sns.distplot(df[feature])\n",
    "    plt.show()"
   ]
  },
  {
   "cell_type": "markdown",
   "metadata": {},
   "source": [
    "#### Categorical Features"
   ]
  },
  {
   "cell_type": "code",
   "execution_count": 25,
   "metadata": {},
   "outputs": [
    {
     "data": {
      "text/plain": [
       "['Dependancies', 'Billing', 'Education']"
      ]
     },
     "execution_count": 25,
     "metadata": {},
     "output_type": "execute_result"
    }
   ],
   "source": [
    "# Features which are having dtype as Object are Categorical features\n",
    "\n",
    "categorical_features=[feature for feature in df.columns if df[feature].dtypes=='O']\n",
    "categorical_features"
   ]
  },
  {
   "cell_type": "code",
   "execution_count": 26,
   "metadata": {},
   "outputs": [
    {
     "data": {
      "text/html": [
       "<div>\n",
       "<style scoped>\n",
       "    .dataframe tbody tr th:only-of-type {\n",
       "        vertical-align: middle;\n",
       "    }\n",
       "\n",
       "    .dataframe tbody tr th {\n",
       "        vertical-align: top;\n",
       "    }\n",
       "\n",
       "    .dataframe thead th {\n",
       "        text-align: right;\n",
       "    }\n",
       "</style>\n",
       "<table border=\"1\" class=\"dataframe\">\n",
       "  <thead>\n",
       "    <tr style=\"text-align: right;\">\n",
       "      <th></th>\n",
       "      <th>Dependancies</th>\n",
       "      <th>Billing</th>\n",
       "      <th>Education</th>\n",
       "    </tr>\n",
       "  </thead>\n",
       "  <tbody>\n",
       "    <tr>\n",
       "      <th>68</th>\n",
       "      <td>No</td>\n",
       "      <td>No</td>\n",
       "      <td>Graduation</td>\n",
       "    </tr>\n",
       "    <tr>\n",
       "      <th>69</th>\n",
       "      <td>No</td>\n",
       "      <td>No</td>\n",
       "      <td>Graduation</td>\n",
       "    </tr>\n",
       "    <tr>\n",
       "      <th>70</th>\n",
       "      <td>Yes</td>\n",
       "      <td>No</td>\n",
       "      <td>Graduation</td>\n",
       "    </tr>\n",
       "    <tr>\n",
       "      <th>71</th>\n",
       "      <td>No</td>\n",
       "      <td>Yes</td>\n",
       "      <td>Graduation</td>\n",
       "    </tr>\n",
       "    <tr>\n",
       "      <th>72</th>\n",
       "      <td>No</td>\n",
       "      <td>Yes</td>\n",
       "      <td>Graduation</td>\n",
       "    </tr>\n",
       "    <tr>\n",
       "      <th>...</th>\n",
       "      <td>...</td>\n",
       "      <td>...</td>\n",
       "      <td>...</td>\n",
       "    </tr>\n",
       "    <tr>\n",
       "      <th>4554</th>\n",
       "      <td>No</td>\n",
       "      <td>No</td>\n",
       "      <td>PG</td>\n",
       "    </tr>\n",
       "    <tr>\n",
       "      <th>4555</th>\n",
       "      <td>No</td>\n",
       "      <td>Yes</td>\n",
       "      <td>PG</td>\n",
       "    </tr>\n",
       "    <tr>\n",
       "      <th>4556</th>\n",
       "      <td>Yes</td>\n",
       "      <td>Yes</td>\n",
       "      <td>PG</td>\n",
       "    </tr>\n",
       "    <tr>\n",
       "      <th>4557</th>\n",
       "      <td>Yes</td>\n",
       "      <td>Yes</td>\n",
       "      <td>PG</td>\n",
       "    </tr>\n",
       "    <tr>\n",
       "      <th>4567</th>\n",
       "      <td>Yes</td>\n",
       "      <td>No</td>\n",
       "      <td>PG</td>\n",
       "    </tr>\n",
       "  </tbody>\n",
       "</table>\n",
       "<p>4409 rows × 3 columns</p>\n",
       "</div>"
      ],
      "text/plain": [
       "     Dependancies Billing   Education\n",
       "68             No      No  Graduation\n",
       "69             No      No  Graduation\n",
       "70            Yes      No  Graduation\n",
       "71             No     Yes  Graduation\n",
       "72             No     Yes  Graduation\n",
       "...           ...     ...         ...\n",
       "4554           No      No          PG\n",
       "4555           No     Yes          PG\n",
       "4556          Yes     Yes          PG\n",
       "4557          Yes     Yes          PG\n",
       "4567          Yes      No          PG\n",
       "\n",
       "[4409 rows x 3 columns]"
      ]
     },
     "execution_count": 26,
     "metadata": {},
     "output_type": "execute_result"
    }
   ],
   "source": [
    "# Taking the Categorical data\n",
    "\n",
    "categorical_data=df[categorical_features]\n",
    "categorical_data"
   ]
  },
  {
   "cell_type": "code",
   "execution_count": 27,
   "metadata": {},
   "outputs": [
    {
     "name": "stdout",
     "output_type": "stream",
     "text": [
      "Column: Dependancies\n",
      " Value:No     3109\n",
      "Yes    1300\n",
      "Name: Dependancies, dtype: int64\n",
      "\n",
      "Column: Billing\n",
      " Value:Yes    2596\n",
      "No     1813\n",
      "Name: Billing, dtype: int64\n",
      "\n",
      "Column: Education\n",
      " Value:PG            2479\n",
      "Graduation    1930\n",
      "Name: Education, dtype: int64\n",
      "\n"
     ]
    }
   ],
   "source": [
    "for feature in categorical_data:\n",
    "    print('Column: {}\\n Value:{}\\n'.format(feature,categorical_data[feature].value_counts()))\n",
    "    \n",
    "# Maximum Ratio of categories among features is around 2.5:1 which is not high  \n",
    "# Therefore categorical data is Balanced as we can see."
   ]
  },
  {
   "cell_type": "markdown",
   "metadata": {},
   "source": [
    "#### Creating dummy columns\n",
    "Categorical features first need to converted into 0s and 1s before feeding them into our model.\n",
    "Here we are using pd.get_dummies and we'll be dropping the first column. In case of binary data one column is enough to provide an information.\n",
    "And since as the no of columns reduces,easy it would be for our model to get trained.\n"
   ]
  },
  {
   "cell_type": "code",
   "execution_count": 28,
   "metadata": {},
   "outputs": [
    {
     "data": {
      "text/html": [
       "<div>\n",
       "<style scoped>\n",
       "    .dataframe tbody tr th:only-of-type {\n",
       "        vertical-align: middle;\n",
       "    }\n",
       "\n",
       "    .dataframe tbody tr th {\n",
       "        vertical-align: top;\n",
       "    }\n",
       "\n",
       "    .dataframe thead th {\n",
       "        text-align: right;\n",
       "    }\n",
       "</style>\n",
       "<table border=\"1\" class=\"dataframe\">\n",
       "  <thead>\n",
       "    <tr style=\"text-align: right;\">\n",
       "      <th></th>\n",
       "      <th>Yes</th>\n",
       "      <th>Yes</th>\n",
       "      <th>PG</th>\n",
       "    </tr>\n",
       "  </thead>\n",
       "  <tbody>\n",
       "    <tr>\n",
       "      <th>68</th>\n",
       "      <td>0</td>\n",
       "      <td>0</td>\n",
       "      <td>0</td>\n",
       "    </tr>\n",
       "    <tr>\n",
       "      <th>69</th>\n",
       "      <td>0</td>\n",
       "      <td>0</td>\n",
       "      <td>0</td>\n",
       "    </tr>\n",
       "    <tr>\n",
       "      <th>70</th>\n",
       "      <td>1</td>\n",
       "      <td>0</td>\n",
       "      <td>0</td>\n",
       "    </tr>\n",
       "    <tr>\n",
       "      <th>71</th>\n",
       "      <td>0</td>\n",
       "      <td>1</td>\n",
       "      <td>0</td>\n",
       "    </tr>\n",
       "    <tr>\n",
       "      <th>72</th>\n",
       "      <td>0</td>\n",
       "      <td>1</td>\n",
       "      <td>0</td>\n",
       "    </tr>\n",
       "    <tr>\n",
       "      <th>...</th>\n",
       "      <td>...</td>\n",
       "      <td>...</td>\n",
       "      <td>...</td>\n",
       "    </tr>\n",
       "    <tr>\n",
       "      <th>4554</th>\n",
       "      <td>0</td>\n",
       "      <td>0</td>\n",
       "      <td>1</td>\n",
       "    </tr>\n",
       "    <tr>\n",
       "      <th>4555</th>\n",
       "      <td>0</td>\n",
       "      <td>1</td>\n",
       "      <td>1</td>\n",
       "    </tr>\n",
       "    <tr>\n",
       "      <th>4556</th>\n",
       "      <td>1</td>\n",
       "      <td>1</td>\n",
       "      <td>1</td>\n",
       "    </tr>\n",
       "    <tr>\n",
       "      <th>4557</th>\n",
       "      <td>1</td>\n",
       "      <td>1</td>\n",
       "      <td>1</td>\n",
       "    </tr>\n",
       "    <tr>\n",
       "      <th>4567</th>\n",
       "      <td>1</td>\n",
       "      <td>0</td>\n",
       "      <td>1</td>\n",
       "    </tr>\n",
       "  </tbody>\n",
       "</table>\n",
       "<p>4409 rows × 3 columns</p>\n",
       "</div>"
      ],
      "text/plain": [
       "      Yes  Yes  PG\n",
       "68      0    0   0\n",
       "69      0    0   0\n",
       "70      1    0   0\n",
       "71      0    1   0\n",
       "72      0    1   0\n",
       "...   ...  ...  ..\n",
       "4554    0    0   1\n",
       "4555    0    1   1\n",
       "4556    1    1   1\n",
       "4557    1    1   1\n",
       "4567    1    0   1\n",
       "\n",
       "[4409 rows x 3 columns]"
      ]
     },
     "execution_count": 28,
     "metadata": {},
     "output_type": "execute_result"
    }
   ],
   "source": [
    "for feature in categorical_features:\n",
    "    dummy=pd.get_dummies(categorical_data[feature],drop_first=True)   # Getting dummies out of categorical feature\n",
    "    categorical_data=categorical_data.drop(feature,axis=1)            # Removing that categorical feature\n",
    "    categorical_data=pd.concat([categorical_data,dummy],axis=1)       # Adding the dummy column to Categorical data.\n",
    "\n",
    "categorical_data"
   ]
  },
  {
   "cell_type": "code",
   "execution_count": 29,
   "metadata": {},
   "outputs": [
    {
     "data": {
      "text/html": [
       "<div>\n",
       "<style scoped>\n",
       "    .dataframe tbody tr th:only-of-type {\n",
       "        vertical-align: middle;\n",
       "    }\n",
       "\n",
       "    .dataframe tbody tr th {\n",
       "        vertical-align: top;\n",
       "    }\n",
       "\n",
       "    .dataframe thead th {\n",
       "        text-align: right;\n",
       "    }\n",
       "</style>\n",
       "<table border=\"1\" class=\"dataframe\">\n",
       "  <thead>\n",
       "    <tr style=\"text-align: right;\">\n",
       "      <th></th>\n",
       "      <th>Yes</th>\n",
       "      <th>Yes</th>\n",
       "      <th>PG</th>\n",
       "    </tr>\n",
       "  </thead>\n",
       "  <tbody>\n",
       "    <tr>\n",
       "      <th>0</th>\n",
       "      <td>0</td>\n",
       "      <td>0</td>\n",
       "      <td>0</td>\n",
       "    </tr>\n",
       "    <tr>\n",
       "      <th>1</th>\n",
       "      <td>0</td>\n",
       "      <td>0</td>\n",
       "      <td>0</td>\n",
       "    </tr>\n",
       "    <tr>\n",
       "      <th>2</th>\n",
       "      <td>1</td>\n",
       "      <td>0</td>\n",
       "      <td>0</td>\n",
       "    </tr>\n",
       "    <tr>\n",
       "      <th>3</th>\n",
       "      <td>0</td>\n",
       "      <td>1</td>\n",
       "      <td>0</td>\n",
       "    </tr>\n",
       "    <tr>\n",
       "      <th>4</th>\n",
       "      <td>0</td>\n",
       "      <td>1</td>\n",
       "      <td>0</td>\n",
       "    </tr>\n",
       "    <tr>\n",
       "      <th>...</th>\n",
       "      <td>...</td>\n",
       "      <td>...</td>\n",
       "      <td>...</td>\n",
       "    </tr>\n",
       "    <tr>\n",
       "      <th>4404</th>\n",
       "      <td>0</td>\n",
       "      <td>0</td>\n",
       "      <td>1</td>\n",
       "    </tr>\n",
       "    <tr>\n",
       "      <th>4405</th>\n",
       "      <td>0</td>\n",
       "      <td>1</td>\n",
       "      <td>1</td>\n",
       "    </tr>\n",
       "    <tr>\n",
       "      <th>4406</th>\n",
       "      <td>1</td>\n",
       "      <td>1</td>\n",
       "      <td>1</td>\n",
       "    </tr>\n",
       "    <tr>\n",
       "      <th>4407</th>\n",
       "      <td>1</td>\n",
       "      <td>1</td>\n",
       "      <td>1</td>\n",
       "    </tr>\n",
       "    <tr>\n",
       "      <th>4408</th>\n",
       "      <td>1</td>\n",
       "      <td>0</td>\n",
       "      <td>1</td>\n",
       "    </tr>\n",
       "  </tbody>\n",
       "</table>\n",
       "<p>4409 rows × 3 columns</p>\n",
       "</div>"
      ],
      "text/plain": [
       "      Yes  Yes  PG\n",
       "0       0    0   0\n",
       "1       0    0   0\n",
       "2       1    0   0\n",
       "3       0    1   0\n",
       "4       0    1   0\n",
       "...   ...  ...  ..\n",
       "4404    0    0   1\n",
       "4405    0    1   1\n",
       "4406    1    1   1\n",
       "4407    1    1   1\n",
       "4408    1    0   1\n",
       "\n",
       "[4409 rows x 3 columns]"
      ]
     },
     "execution_count": 29,
     "metadata": {},
     "output_type": "execute_result"
    }
   ],
   "source": [
    "# Giving new index to categorical Data,Since we want to concat it to numerical feature and concatenation happen with columns having same index.\n",
    "categorical_data.index=range(4409)\n",
    "categorical_data"
   ]
  },
  {
   "cell_type": "code",
   "execution_count": 30,
   "metadata": {},
   "outputs": [
    {
     "data": {
      "text/plain": [
       "['Base_pay', 'Bonus', 'Unit_Price', 'low', 'Unit_Sales', 'Months']"
      ]
     },
     "execution_count": 30,
     "metadata": {},
     "output_type": "execute_result"
    }
   ],
   "source": [
    "# From earlier numerical features,some of the features have been removed.\n",
    "# Therefore defining numerical features again.\n",
    "\n",
    "numerical_features=[feature for feature in df.columns if df[feature].dtypes!='O' and feature not in 'Salary']\n",
    "\n",
    "numerical_features"
   ]
  },
  {
   "cell_type": "code",
   "execution_count": 31,
   "metadata": {},
   "outputs": [],
   "source": [
    "numerical_data=df[numerical_features]\n",
    "numerical_data.index=range(4409)\n"
   ]
  },
  {
   "cell_type": "code",
   "execution_count": 32,
   "metadata": {},
   "outputs": [
    {
     "data": {
      "text/html": [
       "<div>\n",
       "<style scoped>\n",
       "    .dataframe tbody tr th:only-of-type {\n",
       "        vertical-align: middle;\n",
       "    }\n",
       "\n",
       "    .dataframe tbody tr th {\n",
       "        vertical-align: top;\n",
       "    }\n",
       "\n",
       "    .dataframe thead th {\n",
       "        text-align: right;\n",
       "    }\n",
       "</style>\n",
       "<table border=\"1\" class=\"dataframe\">\n",
       "  <thead>\n",
       "    <tr style=\"text-align: right;\">\n",
       "      <th></th>\n",
       "      <th>Base_pay</th>\n",
       "      <th>Bonus</th>\n",
       "      <th>Unit_Price</th>\n",
       "      <th>low</th>\n",
       "      <th>Unit_Sales</th>\n",
       "      <th>Months</th>\n",
       "      <th>Yes</th>\n",
       "      <th>Yes</th>\n",
       "      <th>PG</th>\n",
       "    </tr>\n",
       "  </thead>\n",
       "  <tbody>\n",
       "    <tr>\n",
       "      <th>0</th>\n",
       "      <td>14786.46538</td>\n",
       "      <td>1848.308173</td>\n",
       "      <td>40.970000</td>\n",
       "      <td>6.698333</td>\n",
       "      <td>19.30</td>\n",
       "      <td>1</td>\n",
       "      <td>0</td>\n",
       "      <td>0</td>\n",
       "      <td>0</td>\n",
       "    </tr>\n",
       "    <tr>\n",
       "      <th>1</th>\n",
       "      <td>15219.31691</td>\n",
       "      <td>1902.414614</td>\n",
       "      <td>40.940000</td>\n",
       "      <td>6.683333</td>\n",
       "      <td>19.30</td>\n",
       "      <td>1</td>\n",
       "      <td>0</td>\n",
       "      <td>0</td>\n",
       "      <td>0</td>\n",
       "    </tr>\n",
       "    <tr>\n",
       "      <th>2</th>\n",
       "      <td>15433.59406</td>\n",
       "      <td>1929.199258</td>\n",
       "      <td>6.940000</td>\n",
       "      <td>6.510000</td>\n",
       "      <td>19.30</td>\n",
       "      <td>1</td>\n",
       "      <td>1</td>\n",
       "      <td>0</td>\n",
       "      <td>0</td>\n",
       "    </tr>\n",
       "    <tr>\n",
       "      <th>3</th>\n",
       "      <td>15633.07536</td>\n",
       "      <td>1954.134420</td>\n",
       "      <td>7.240000</td>\n",
       "      <td>6.980000</td>\n",
       "      <td>19.30</td>\n",
       "      <td>1</td>\n",
       "      <td>0</td>\n",
       "      <td>1</td>\n",
       "      <td>0</td>\n",
       "    </tr>\n",
       "    <tr>\n",
       "      <th>4</th>\n",
       "      <td>15634.85534</td>\n",
       "      <td>1954.356918</td>\n",
       "      <td>51.849998</td>\n",
       "      <td>7.232857</td>\n",
       "      <td>19.30</td>\n",
       "      <td>1</td>\n",
       "      <td>0</td>\n",
       "      <td>1</td>\n",
       "      <td>0</td>\n",
       "    </tr>\n",
       "    <tr>\n",
       "      <th>...</th>\n",
       "      <td>...</td>\n",
       "      <td>...</td>\n",
       "      <td>...</td>\n",
       "      <td>...</td>\n",
       "      <td>...</td>\n",
       "      <td>...</td>\n",
       "      <td>...</td>\n",
       "      <td>...</td>\n",
       "      <td>...</td>\n",
       "    </tr>\n",
       "    <tr>\n",
       "      <th>4404</th>\n",
       "      <td>53089.51031</td>\n",
       "      <td>6636.188790</td>\n",
       "      <td>85.230003</td>\n",
       "      <td>83.779999</td>\n",
       "      <td>104.00</td>\n",
       "      <td>68</td>\n",
       "      <td>0</td>\n",
       "      <td>0</td>\n",
       "      <td>1</td>\n",
       "    </tr>\n",
       "    <tr>\n",
       "      <th>4405</th>\n",
       "      <td>53095.45863</td>\n",
       "      <td>6636.932330</td>\n",
       "      <td>85.059998</td>\n",
       "      <td>84.000000</td>\n",
       "      <td>104.05</td>\n",
       "      <td>68</td>\n",
       "      <td>0</td>\n",
       "      <td>1</td>\n",
       "      <td>1</td>\n",
       "    </tr>\n",
       "    <tr>\n",
       "      <th>4406</th>\n",
       "      <td>53098.04788</td>\n",
       "      <td>6637.255985</td>\n",
       "      <td>85.169998</td>\n",
       "      <td>83.879997</td>\n",
       "      <td>104.05</td>\n",
       "      <td>68</td>\n",
       "      <td>1</td>\n",
       "      <td>1</td>\n",
       "      <td>1</td>\n",
       "    </tr>\n",
       "    <tr>\n",
       "      <th>4407</th>\n",
       "      <td>53113.42734</td>\n",
       "      <td>6639.178415</td>\n",
       "      <td>85.660004</td>\n",
       "      <td>83.199997</td>\n",
       "      <td>104.05</td>\n",
       "      <td>68</td>\n",
       "      <td>1</td>\n",
       "      <td>1</td>\n",
       "      <td>1</td>\n",
       "    </tr>\n",
       "    <tr>\n",
       "      <th>4408</th>\n",
       "      <td>53236.20417</td>\n",
       "      <td>6654.525520</td>\n",
       "      <td>87.059998</td>\n",
       "      <td>84.440002</td>\n",
       "      <td>104.10</td>\n",
       "      <td>68</td>\n",
       "      <td>1</td>\n",
       "      <td>0</td>\n",
       "      <td>1</td>\n",
       "    </tr>\n",
       "  </tbody>\n",
       "</table>\n",
       "<p>4409 rows × 9 columns</p>\n",
       "</div>"
      ],
      "text/plain": [
       "         Base_pay        Bonus  Unit_Price        low  Unit_Sales  Months  \\\n",
       "0     14786.46538  1848.308173   40.970000   6.698333       19.30       1   \n",
       "1     15219.31691  1902.414614   40.940000   6.683333       19.30       1   \n",
       "2     15433.59406  1929.199258    6.940000   6.510000       19.30       1   \n",
       "3     15633.07536  1954.134420    7.240000   6.980000       19.30       1   \n",
       "4     15634.85534  1954.356918   51.849998   7.232857       19.30       1   \n",
       "...           ...          ...         ...        ...         ...     ...   \n",
       "4404  53089.51031  6636.188790   85.230003  83.779999      104.00      68   \n",
       "4405  53095.45863  6636.932330   85.059998  84.000000      104.05      68   \n",
       "4406  53098.04788  6637.255985   85.169998  83.879997      104.05      68   \n",
       "4407  53113.42734  6639.178415   85.660004  83.199997      104.05      68   \n",
       "4408  53236.20417  6654.525520   87.059998  84.440002      104.10      68   \n",
       "\n",
       "      Yes  Yes  PG  \n",
       "0       0    0   0  \n",
       "1       0    0   0  \n",
       "2       1    0   0  \n",
       "3       0    1   0  \n",
       "4       0    1   0  \n",
       "...   ...  ...  ..  \n",
       "4404    0    0   1  \n",
       "4405    0    1   1  \n",
       "4406    1    1   1  \n",
       "4407    1    1   1  \n",
       "4408    1    0   1  \n",
       "\n",
       "[4409 rows x 9 columns]"
      ]
     },
     "execution_count": 32,
     "metadata": {},
     "output_type": "execute_result"
    }
   ],
   "source": [
    "final_data=pd.concat([numerical_data,categorical_data],axis=1)\n",
    "final_data"
   ]
  },
  {
   "cell_type": "code",
   "execution_count": 33,
   "metadata": {},
   "outputs": [],
   "source": [
    "y=df['Salary']\n",
    "y.index=range(4409)\n",
    "X=final_data"
   ]
  },
  {
   "cell_type": "code",
   "execution_count": 34,
   "metadata": {},
   "outputs": [],
   "source": [
    "from sklearn.model_selection import train_test_split\n",
    "X_train,X_test,y_train,y_test=train_test_split(X,y,test_size=0.2,random_state=0)"
   ]
  },
  {
   "cell_type": "markdown",
   "metadata": {},
   "source": [
    "### Standard Scaler\n",
    "In our Dataset the Difference in Magnitude among two different feature is high. \n",
    "In such situation,Model has tendency to get biased towards a feature having high magnitude.\n",
    "To Overcome this issue,we use either Standardization or Normalisation.\n",
    "Here we are using Standardization where in all numerical features will be Normally distributed with mean=0 and Standard Deviation=1."
   ]
  },
  {
   "cell_type": "code",
   "execution_count": 35,
   "metadata": {},
   "outputs": [],
   "source": [
    "from sklearn.preprocessing import MinMaxScaler\n",
    "scaler=MinMaxScaler()\n",
    "\n",
    "X_train[numerical_features]=scaler.fit_transform(X_train[numerical_features])\n",
    "X_test[numerical_features]=scaler.fit_transform(X_test[numerical_features])"
   ]
  },
  {
   "cell_type": "markdown",
   "metadata": {},
   "source": [
    "# Machine Learning\n",
    "Evaluation metrics for this Dataset are R-2 score/Adjusted R-2,Root Mean Squared Error and Mean Absolute Error.\n",
    "Problem with R-2 is,as you go on adding features to our model regardless of it being relevant or irrelevant,R-2 Score increases.\n",
    "To overcome this issue,Adjusted R-2 Score is used"
   ]
  },
  {
   "cell_type": "markdown",
   "metadata": {},
   "source": [
    "### Multiple Linear Regression\n",
    "In Our Final Dataset there are 9 columns and thus 9 predictors for target value.\n",
    "Therefore we are using Multiple Linear Regression."
   ]
  },
  {
   "cell_type": "code",
   "execution_count": 51,
   "metadata": {},
   "outputs": [
    {
     "name": "stdout",
     "output_type": "stream",
     "text": [
      " Model: Multiple Linear Regression\n",
      " Adjusted R-2 Score: 0.9996837240189406\n",
      " Root Mean Squared Error: 354.0557292928593\n",
      " Mean Absolute Error: 54.21768934714422\n"
     ]
    }
   ],
   "source": [
    "from sklearn.linear_model import LinearRegression                              # Importing Linear Regression Model\n",
    "from sklearn.metrics import r2_score,mean_squared_error,mean_absolute_error    # Importing Evaluation Metrics\n",
    "lg=LinearRegression().fit(X_train,y_train)                                     # Defining and fitting the model.\n",
    "y_pred=lg.predict(X_test)                                                      # Predicting the target value of test data.\n",
    "r2=r2_score(y_test,y_pred)                                                     # Calculating R-2 Score\n",
    "adjusted_r2=1-((1-r2)*(len(y)-1))/(len(y)-X.shape[1]-1)                        # Calculating Adjusted R-2 score\n",
    "print(' Model: Multiple Linear Regression\\n Adjusted R-2 Score: {}\\n Root Mean Squared Error: {}'.format(adjusted_r2,np.sqrt(mean_squared_error(y_test,y_pred))))\n",
    "print(' Mean Absolute Error: {}'.format(mean_absolute_error(y_test,y_pred)))"
   ]
  },
  {
   "cell_type": "code",
   "execution_count": 37,
   "metadata": {},
   "outputs": [
    {
     "data": {
      "text/plain": [
       "Text(0.5, 1.0, 'Distribution of errors')"
      ]
     },
     "execution_count": 37,
     "metadata": {},
     "output_type": "execute_result"
    },
    {
     "data": {
      "image/png": "[encoded data removed]",
      "text/plain": [
       "<Figure size 432x288 with 1 Axes>"
      ]
     },
     "metadata": {
      "needs_background": "light"
     },
     "output_type": "display_data"
    }
   ],
   "source": [
    "# Distribution of errors\n",
    "sns.distplot(y_test-y_pred)\n",
    "plt.title('Distribution of errors')"
   ]
  },
  {
   "cell_type": "markdown",
   "metadata": {},
   "source": [
    "### Lasso Regression with Grid Search Cross-Validation\n",
    "Here we are first finding best parameters for our regression model with the help of Grid Search Cross-Validation\n",
    "then we will use those parameters in our fitted model.\n",
    "\n",
    "\n",
    "Linear regression has a tendency to overfit the model.\n",
    "To overcome this situation,Ridge and Lasso Regressors are used.\n",
    "Here we are using Lasso Regressor since it automatically performs feature selection.\n",
    "In our dataset,we have lots of independent feature therefore we are going with Lasso Regression.\n",
    "Alpha-value is degree of regularization of model(generalisation of model).\n",
    "Higher Alpha Value means higher regularization and thus simpler is the model\n"
   ]
  },
  {
   "cell_type": "code",
   "execution_count": 53,
   "metadata": {},
   "outputs": [
    {
     "name": "stdout",
     "output_type": "stream",
     "text": [
      "{'alpha': 1e-10}\n"
     ]
    }
   ],
   "source": [
    "from sklearn.linear_model import Lasso\n",
    "from sklearn.model_selection import GridSearchCV\n",
    "\n",
    "lasso=Lasso()     # Defining Lasso regressor\n",
    "parameters={'alpha':[1e-15,1e-10,1e-8,1e-3,1e-2,1,5,10,20,30,35,40,45,50,55,100]}    # Defining parameters for our model.\n",
    "lasso_regressor=GridSearchCV(lasso,param_grid=parameters,scoring='neg_mean_squared_error',cv=5)  \n",
    "lasso_regressor.fit(X_train,y_train)\n",
    "print(lasso_regressor.best_params_)"
   ]
  },
  {
   "cell_type": "code",
   "execution_count": 61,
   "metadata": {},
   "outputs": [
    {
     "name": "stdout",
     "output_type": "stream",
     "text": [
      " Model: Lasso with GridSearchCV\n",
      " Adjusted R-2 Score: 0.9996837240182245\n",
      " Root Mean Squared Error: 354.0557296937017\n",
      " Mean Absolute Error: 54.21768476117361\n"
     ]
    }
   ],
   "source": [
    "lasso=Lasso(alpha=1e-10).fit(X_train,y_train)\n",
    "y_pred=lasso.predict(X_test)\n",
    "\n",
    "r2=r2_score(y_test,y_pred)\n",
    "adjusted_r2=1-((1-r2)*(len(y)-1))/(len(y)-X.shape[1]-1)\n",
    "\n",
    "print(' Model: Lasso with GridSearchCV\\n Adjusted R-2 Score: {}\\n Root Mean Squared Error: {}'.format(adjusted_r2,np.sqrt(mean_squared_error(y_test,y_pred))))\n",
    "print(' Mean Absolute Error: {}'.format(mean_absolute_error(y_test,y_pred)))"
   ]
  },
  {
   "cell_type": "code",
   "execution_count": 62,
   "metadata": {},
   "outputs": [
    {
     "data": {
      "text/plain": [
       "Text(0.5, 1.0, 'Distribution of errors')"
      ]
     },
     "execution_count": 62,
     "metadata": {},
     "output_type": "execute_result"
    },
    {
     "data": {
      "image/png": "[encoded data removed]",
      "text/plain": [
       "<Figure size 432x288 with 1 Axes>"
      ]
     },
     "metadata": {
      "needs_background": "light"
     },
     "output_type": "display_data"
    }
   ],
   "source": [
    "sns.distplot(y_test-y_pred)\n",
    "plt.title('Distribution of errors')"
   ]
  },
  {
   "cell_type": "markdown",
   "metadata": {},
   "source": [
    "### Random Forest\n",
    "Random Forest uses multiple trees and takes the average of final outcome from each tree,which makes it better regressor than Decision Tree Regressor. And therefore using Random Forest\n",
    "\n"
   ]
  },
  {
   "cell_type": "code",
   "execution_count": 56,
   "metadata": {},
   "outputs": [
    {
     "name": "stdout",
     "output_type": "stream",
     "text": [
      " Model: Random Forest\n",
      " Adjusted R-2 Score: 0.9999950622161797\n",
      " Root Mean Squared Error: 44.23892415726251\n",
      " Mean Absolute Error: 19.775380992064594\n"
     ]
    }
   ],
   "source": [
    "from sklearn.ensemble import RandomForestRegressor\n",
    "rf=RandomForestRegressor().fit(X_train,y_train)\n",
    "y_pred=rf.predict(X_test)\n",
    "\n",
    "r2=r2_score(y_test,y_pred)\n",
    "adjusted_r2=1-(1-r2)*(len(y)-1)/(len(y)-X.shape[1]-1)\n",
    "\n",
    "print(' Model: Random Forest\\n Adjusted R-2 Score: {}\\n Root Mean Squared Error: {}'.format(adjusted_r2,np.sqrt(mean_squared_error(y_test,y_pred))))\n",
    "print(' Mean Absolute Error: {}'.format(mean_absolute_error(y_test,y_pred)))"
   ]
  },
  {
   "cell_type": "markdown",
   "metadata": {},
   "source": [
    "Evaluating the maximum depth and Root Mean Squared Error for that depth\n"
   ]
  },
  {
   "cell_type": "code",
   "execution_count": 57,
   "metadata": {},
   "outputs": [],
   "source": [
    "Adjusted_r2=[]     # First Defining empty list  of adjusted r2 and rmse to add adjusted r2 score and rmse later on.\n",
    "rmse=[]\n",
    "for i in range(1,10):         # We are going to evaluate for 1 to 10 as maximum depth of tree.\n",
    "    rf=RandomForestRegressor(max_depth=i).fit(X_train,y_train)\n",
    "    y_pred=rf.predict(X_test)\n",
    "    r2=r2_score(y_test,y_pred)\n",
    "    Adjusted_r2.append((1-(1-r2)*(len(y)-1)/(len(y)-X.shape[1]-1)))     # Adding adjusted r2 value to empty list of adjusted r2.\n",
    "    rmse.append(np.sqrt(mean_squared_error(y_test,y_pred)))             # Adding rmse value to empty list of rmse.\n",
    "    "
   ]
  },
  {
   "cell_type": "code",
   "execution_count": 58,
   "metadata": {},
   "outputs": [
    {
     "data": {
      "text/plain": [
       "Text(0.5, 0, 'Depth of Tree')"
      ]
     },
     "execution_count": 58,
     "metadata": {},
     "output_type": "execute_result"
    },
    {
     "data": {
      "text/plain": [
       "<Figure size 7200x360 with 0 Axes>"
      ]
     },
     "metadata": {},
     "output_type": "display_data"
    },
    {
     "data": {
      "image/png": "[encoded data removed]",
      "text/plain": [
       "<Figure size 432x288 with 2 Axes>"
      ]
     },
     "metadata": {
      "needs_background": "light"
     },
     "output_type": "display_data"
    }
   ],
   "source": [
    "# Plotting the Adjusted R-2 score and its corresponding RMSE.\n",
    "\n",
    "plt.figure(figsize=(100,5))\n",
    "fig,ax1=plt.subplots()\n",
    "ax1.plot(range(1,10),Adjusted_r2,color='red')\n",
    "ax1.set_ylabel('Adjusted R-2 Score')\n",
    "ax1.set_xlabel('Depth of Tree')\n",
    "\n",
    "ax2=ax1.twinx()\n",
    "ax2.plot(range(1,10),rmse,color='blue')\n",
    "ax2.set_ylabel('RMSE Score')\n",
    "ax2.set_xlabel('Depth of Tree')"
   ]
  },
  {
   "cell_type": "markdown",
   "metadata": {},
   "source": [
    "From the graph max depth=5 seems to be best among all.\n",
    "Since Adjusted r2 score and its corresponding root mean squared error is acceptable"
   ]
  },
  {
   "cell_type": "code",
   "execution_count": 59,
   "metadata": {},
   "outputs": [
    {
     "name": "stdout",
     "output_type": "stream",
     "text": [
      " Model: Random Forest\n",
      " Adjusted R-2 Score: 1.00\n",
      " Root Mean Squared Error: 489.75\n"
     ]
    }
   ],
   "source": [
    "rf=RandomForestRegressor(max_depth=5).fit(X_train,y_train)\n",
    "y_pred=rf.predict(X_test)\n",
    "\n",
    "r2=r2_score(y_test,y_pred)\n",
    "adjusted_r2=1-(1-r2)*(len(y)-1)/(len(y)-X.shape[1]-1)\n",
    "\n",
    "print(' Model: Random Forest\\n Adjusted R-2 Score: {:.2f}\\n Root Mean Squared Error: {:.2f}'.format(adjusted_r2,np.sqrt(mean_squared_error(y_test,y_pred))))"
   ]
  },
  {
   "cell_type": "code",
   "execution_count": 60,
   "metadata": {},
   "outputs": [
    {
     "data": {
      "text/plain": [
       "Text(0.5, 1.0, 'Distribution of errors')"
      ]
     },
     "execution_count": 60,
     "metadata": {},
     "output_type": "execute_result"
    },
    {
     "data": {
      "image/png": "[encoded data removed]",
      "text/plain": [
       "<Figure size 432x288 with 1 Axes>"
      ]
     },
     "metadata": {
      "needs_background": "light"
     },
     "output_type": "display_data"
    }
   ],
   "source": [
    "sns.distplot(y_test-y_pred)\n",
    "plt.title('Distribution of errors')"
   ]
  },
  {
   "cell_type": "markdown",
   "metadata": {},
   "source": [
    "### Linear Regression with Principle Component Analysis(PCA)\n",
    "PCA reduces the no of features.\n",
    "It detects the internally correlated features and group them together.\n",
    "And as the no of predictors are less,more generalised would be our model."
   ]
  },
  {
   "cell_type": "code",
   "execution_count": 46,
   "metadata": {},
   "outputs": [
    {
     "data": {
      "text/plain": [
       "(4409, 2)"
      ]
     },
     "execution_count": 46,
     "metadata": {},
     "output_type": "execute_result"
    }
   ],
   "source": [
    "from sklearn.decomposition import PCA\n",
    "pca=PCA(n_components=2)         # No of components we want after PCA is 2\n",
    "pca.fit(final_data)\n",
    "x_pca=pca.transform(final_data)  # Transforming the data\n",
    "x_pca.shape"
   ]
  },
  {
   "cell_type": "code",
   "execution_count": 47,
   "metadata": {},
   "outputs": [],
   "source": [
    "X_train,X_test,y_train,y_test=train_test_split(x_pca,y,test_size=0.2,random_state=0)"
   ]
  },
  {
   "cell_type": "code",
   "execution_count": 48,
   "metadata": {},
   "outputs": [
    {
     "name": "stdout",
     "output_type": "stream",
     "text": [
      " Model: PCA,Linear Regression\n",
      " Adjusted R-2 Score: 1.00\n",
      " Root Mean Squared Error: 354.06\n",
      " Mean Absolute Error: 54.22\n"
     ]
    }
   ],
   "source": [
    "lg.fit(X_train,y_train)\n",
    "y_pred=lg.predict(X_test)\n",
    "\n",
    "r2=r2_score(y_test,y_pred)\n",
    "adjusted_r2=1-(1-r2)*(len(y)-1)/(len(y)-X.shape[1]-1)\n",
    "\n",
    "print(' Model: PCA,Linear Regression\\n Adjusted R-2 Score: {:.2f}\\n Root Mean Squared Error: {:.2f}'.format(adjusted_r2,np.sqrt(mean_squared_error(y_test,y_pred))))\n",
    "print(' Mean Absolute Error: {:.2f}'.format(mean_absolute_error(y_test,y_pred)))"
   ]
  },
  {
   "cell_type": "code",
   "execution_count": 49,
   "metadata": {},
   "outputs": [
    {
     "data": {
      "text/plain": [
       "Text(0.5, 1.0, 'Distribution of Error')"
      ]
     },
     "execution_count": 49,
     "metadata": {},
     "output_type": "execute_result"
    },
    {
     "data": {
      "image/png": "[encoded data removed]",
      "text/plain": [
       "<Figure size 432x288 with 1 Axes>"
      ]
     },
     "metadata": {
      "needs_background": "light"
     },
     "output_type": "display_data"
    }
   ],
   "source": [
    "sns.distplot(y_test-y_pred)\n",
    "plt.title('Distribution of Error')"
   ]
  },
  {
   "cell_type": "code",
   "execution_count": 50,
   "metadata": {},
   "outputs": [],
   "source": []
  },
  {
   "cell_type": "code",
   "execution_count": null,
   "metadata": {},
   "outputs": [],
   "source": []
  }
 ],
 "metadata": {
  "kernelspec": {
   "display_name": "Python 3",
   "language": "python",
   "name": "python3"
  },
  "language_info": {
   "codemirror_mode": {
    "name": "ipython",
    "version": 3
   },
   "file_extension": ".py",
   "mimetype": "text/x-python",
   "name": "python",
   "nbconvert_exporter": "python",
   "pygments_lexer": "ipython3",
   "version": "3.7.4"
  }
 },
 "nbformat": 4,
 "nbformat_minor": 2
}
